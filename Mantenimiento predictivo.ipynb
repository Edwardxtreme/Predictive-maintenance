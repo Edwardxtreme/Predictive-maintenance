{
 "cells": [
  {
   "cell_type": "code",
   "execution_count": 1,
   "id": "bdd74cdb-2454-4239-8adc-35e98aa0bc2b",
   "metadata": {},
   "outputs": [
    {
     "name": "stdout",
     "output_type": "stream",
     "text": [
      "WARNING:tensorflow:From C:\\Users\\eduar\\anaconda3\\Lib\\site-packages\\keras\\src\\losses.py:2976: The name tf.losses.sparse_softmax_cross_entropy is deprecated. Please use tf.compat.v1.losses.sparse_softmax_cross_entropy instead.\n",
      "\n"
     ]
    }
   ],
   "source": [
    "#librerias a utilizar para el modelo LSTM-RNN\n",
    "import numpy as np\n",
    "import pandas as pd\n",
    "from sklearn.preprocessing import MinMaxScaler\n",
    "from tensorflow.keras.models import Sequential\n",
    "from tensorflow.keras.layers import LSTM, Dense\n",
    "import matplotlib.pyplot as plt\n",
    "from keras.models import Sequential\n",
    "from keras.layers import LSTM, Dense\n"
   ]
  },
  {
   "cell_type": "code",
   "execution_count": 13,
   "id": "981d1f00-ba83-4a1e-85e9-5146c07d2570",
   "metadata": {},
   "outputs": [
    {
     "name": "stdout",
     "output_type": "stream",
     "text": [
      "   Presión (bar)  Temperatura (°C)  Volumen específico (m³/kg)  \\\n",
      "0       1.687270         15.314292                    0.001642   \n",
      "1       1.975357         21.364104                    0.001084   \n",
      "2       1.865997         18.143560                    0.001162   \n",
      "3       1.799329         20.085707                    0.001899   \n",
      "4       1.578009         24.075665                    0.001606   \n",
      "\n",
      "   Entalpía (kJ/kg)  Entropía (kJ/kg·K)  \n",
      "0        402.584086            1.741250  \n",
      "1        426.567732            2.061021  \n",
      "2        427.031756            1.902101  \n",
      "3        431.871495            2.030583  \n",
      "4        436.304567            1.828020  \n"
     ]
    }
   ],
   "source": [
    "# Ruta al archivo en la carpeta Descargas (con barras invertidas)\n",
    "file_path = 'C:\\\\Users\\\\eduar\\\\Downloads\\\\R410A_simulated_data.csv'\n",
    "\n",
    "# Cargar los datos\n",
    "data = pd.read_csv(file_path)\n",
    "\n",
    "# Verificar los datos\n",
    "print(data.head())\n"
   ]
  },
  {
   "cell_type": "code",
   "execution_count": 15,
   "id": "dd81e3ef-ee3f-4690-bd0e-ce16f8cd8c7b",
   "metadata": {},
   "outputs": [
    {
     "data": {
      "text/html": [
       "<div>\n",
       "<style scoped>\n",
       "    .dataframe tbody tr th:only-of-type {\n",
       "        vertical-align: middle;\n",
       "    }\n",
       "\n",
       "    .dataframe tbody tr th {\n",
       "        vertical-align: top;\n",
       "    }\n",
       "\n",
       "    .dataframe thead th {\n",
       "        text-align: right;\n",
       "    }\n",
       "</style>\n",
       "<table border=\"1\" class=\"dataframe\">\n",
       "  <thead>\n",
       "    <tr style=\"text-align: right;\">\n",
       "      <th></th>\n",
       "      <th>Presión (bar)</th>\n",
       "      <th>Temperatura (°C)</th>\n",
       "      <th>Volumen específico (m³/kg)</th>\n",
       "      <th>Entalpía (kJ/kg)</th>\n",
       "      <th>Entropía (kJ/kg·K)</th>\n",
       "    </tr>\n",
       "  </thead>\n",
       "  <tbody>\n",
       "    <tr>\n",
       "      <th>0</th>\n",
       "      <td>1.687270</td>\n",
       "      <td>15.314292</td>\n",
       "      <td>0.001642</td>\n",
       "      <td>402.584086</td>\n",
       "      <td>1.741250</td>\n",
       "    </tr>\n",
       "    <tr>\n",
       "      <th>1</th>\n",
       "      <td>1.975357</td>\n",
       "      <td>21.364104</td>\n",
       "      <td>0.001084</td>\n",
       "      <td>426.567732</td>\n",
       "      <td>2.061021</td>\n",
       "    </tr>\n",
       "    <tr>\n",
       "      <th>2</th>\n",
       "      <td>1.865997</td>\n",
       "      <td>18.143560</td>\n",
       "      <td>0.001162</td>\n",
       "      <td>427.031756</td>\n",
       "      <td>1.902101</td>\n",
       "    </tr>\n",
       "    <tr>\n",
       "      <th>3</th>\n",
       "      <td>1.799329</td>\n",
       "      <td>20.085707</td>\n",
       "      <td>0.001899</td>\n",
       "      <td>431.871495</td>\n",
       "      <td>2.030583</td>\n",
       "    </tr>\n",
       "    <tr>\n",
       "      <th>4</th>\n",
       "      <td>1.578009</td>\n",
       "      <td>24.075665</td>\n",
       "      <td>0.001606</td>\n",
       "      <td>436.304567</td>\n",
       "      <td>1.828020</td>\n",
       "    </tr>\n",
       "    <tr>\n",
       "      <th>...</th>\n",
       "      <td>...</td>\n",
       "      <td>...</td>\n",
       "      <td>...</td>\n",
       "      <td>...</td>\n",
       "      <td>...</td>\n",
       "    </tr>\n",
       "    <tr>\n",
       "      <th>95</th>\n",
       "      <td>1.746898</td>\n",
       "      <td>18.492096</td>\n",
       "      <td>0.001522</td>\n",
       "      <td>446.537866</td>\n",
       "      <td>1.841341</td>\n",
       "    </tr>\n",
       "    <tr>\n",
       "      <th>96</th>\n",
       "      <td>1.761366</td>\n",
       "      <td>22.259557</td>\n",
       "      <td>0.001770</td>\n",
       "      <td>442.920638</td>\n",
       "      <td>1.933462</td>\n",
       "    </tr>\n",
       "    <tr>\n",
       "      <th>97</th>\n",
       "      <td>1.713771</td>\n",
       "      <td>23.971103</td>\n",
       "      <td>0.001216</td>\n",
       "      <td>421.449701</td>\n",
       "      <td>1.731094</td>\n",
       "    </tr>\n",
       "    <tr>\n",
       "      <th>98</th>\n",
       "      <td>1.512710</td>\n",
       "      <td>23.870864</td>\n",
       "      <td>0.001623</td>\n",
       "      <td>437.543553</td>\n",
       "      <td>2.089758</td>\n",
       "    </tr>\n",
       "    <tr>\n",
       "      <th>99</th>\n",
       "      <td>1.553946</td>\n",
       "      <td>22.798755</td>\n",
       "      <td>0.001085</td>\n",
       "      <td>437.727144</td>\n",
       "      <td>2.094484</td>\n",
       "    </tr>\n",
       "  </tbody>\n",
       "</table>\n",
       "<p>100 rows × 5 columns</p>\n",
       "</div>"
      ],
      "text/plain": [
       "    Presión (bar)  Temperatura (°C)  Volumen específico (m³/kg)  \\\n",
       "0        1.687270         15.314292                    0.001642   \n",
       "1        1.975357         21.364104                    0.001084   \n",
       "2        1.865997         18.143560                    0.001162   \n",
       "3        1.799329         20.085707                    0.001899   \n",
       "4        1.578009         24.075665                    0.001606   \n",
       "..            ...               ...                         ...   \n",
       "95       1.746898         18.492096                    0.001522   \n",
       "96       1.761366         22.259557                    0.001770   \n",
       "97       1.713771         23.971103                    0.001216   \n",
       "98       1.512710         23.870864                    0.001623   \n",
       "99       1.553946         22.798755                    0.001085   \n",
       "\n",
       "    Entalpía (kJ/kg)  Entropía (kJ/kg·K)  \n",
       "0         402.584086            1.741250  \n",
       "1         426.567732            2.061021  \n",
       "2         427.031756            1.902101  \n",
       "3         431.871495            2.030583  \n",
       "4         436.304567            1.828020  \n",
       "..               ...                 ...  \n",
       "95        446.537866            1.841341  \n",
       "96        442.920638            1.933462  \n",
       "97        421.449701            1.731094  \n",
       "98        437.543553            2.089758  \n",
       "99        437.727144            2.094484  \n",
       "\n",
       "[100 rows x 5 columns]"
      ]
     },
     "execution_count": 15,
     "metadata": {},
     "output_type": "execute_result"
    }
   ],
   "source": [
    "data"
   ]
  },
  {
   "cell_type": "code",
   "execution_count": 17,
   "id": "2536d015-2a5a-46f7-b65f-9f406b8217b9",
   "metadata": {
    "scrolled": true
   },
   "outputs": [
    {
     "name": "stdout",
     "output_type": "stream",
     "text": [
      "   Presión (bar)  Temperatura (°C)  Volumen específico (m³/kg)  \\\n",
      "0       1.687270         15.314292                    0.001642   \n",
      "1       1.975357         21.364104                    0.001084   \n",
      "2       1.865997         18.143560                    0.001162   \n",
      "3       1.799329         20.085707                    0.001899   \n",
      "4       1.578009         24.075665                    0.001606   \n",
      "\n",
      "   Entalpía (kJ/kg)  Entropía (kJ/kg·K)  \n",
      "0        402.584086            1.741250  \n",
      "1        426.567732            2.061021  \n",
      "2        427.031756            1.902101  \n",
      "3        431.871495            2.030583  \n",
      "4        436.304567            1.828020  \n"
     ]
    }
   ],
   "source": [
    "# Verificar los datos\n",
    "print(data.head())"
   ]
  },
  {
   "cell_type": "code",
   "execution_count": 27,
   "id": "347ca473-b551-4154-b8bf-15e177a03a14",
   "metadata": {},
   "outputs": [
    {
     "name": "stdout",
     "output_type": "stream",
     "text": [
      "Index(['Presión (bar)', 'Temperatura (°C)', 'Volumen específico (m³/kg)',\n",
      "       'Entalpía (kJ/kg)', 'Entropía (kJ/kg·K)'],\n",
      "      dtype='object')\n"
     ]
    }
   ],
   "source": [
    "# Mostrar los nombres de las columnas\n",
    "print(data.columns)"
   ]
  },
  {
   "cell_type": "code",
   "execution_count": 35,
   "id": "63f057c5-1aa3-4495-8f63-4f79b9947df1",
   "metadata": {},
   "outputs": [],
   "source": [
    "# Supongamos que la columna 'pressure' contiene los datos de presión del gas\n",
    "pressure_data = data['Presión (bar)'].values"
   ]
  },
  {
   "cell_type": "code",
   "execution_count": 37,
   "id": "83548310-b0f8-4b13-9609-48d50728a591",
   "metadata": {
    "scrolled": true
   },
   "outputs": [
    {
     "data": {
      "text/plain": [
       "array([1.68727006, 1.97535715, 1.86599697, 1.79932924, 1.57800932,\n",
       "       1.57799726, 1.52904181, 1.93308807, 1.80055751, 1.85403629,\n",
       "       1.51029225, 1.98495493, 1.91622132, 1.60616956, 1.59091248,\n",
       "       1.59170225, 1.65212112, 1.76237822, 1.71597251, 1.64561457,\n",
       "       1.80592645, 1.56974693, 1.64607232, 1.68318092, 1.72803499,\n",
       "       1.89258798, 1.59983689, 1.75711722, 1.79620728, 1.52322521,\n",
       "       1.80377243, 1.58526206, 1.5325258 , 1.97444277, 1.98281602,\n",
       "       1.90419867, 1.65230688, 1.54883606, 1.84211651, 1.72007625,\n",
       "       1.56101912, 1.74758846, 1.51719426, 1.9546602 , 1.62938999,\n",
       "       1.83126114, 1.65585554, 1.76003401, 1.77335514, 1.59242723,\n",
       "       1.98479231, 1.88756641, 1.96974947, 1.94741368, 1.79894999,\n",
       "       1.96093712, 1.54424625, 1.59799143, 1.52261364, 1.66266517,\n",
       "       1.69433864, 1.63567452, 1.91436875, 1.67837666, 1.64046725,\n",
       "       1.77134804, 1.57046211, 1.90109849, 1.53727532, 1.99344347,\n",
       "       1.88612238, 1.59935784, 1.50276106, 1.90773071, 1.85342867,\n",
       "       1.86450358, 1.88563517, 1.53702233, 1.67923286, 1.55793453,\n",
       "       1.93155171, 1.81164906, 1.66544901, 1.53177918, 1.65549116,\n",
       "       1.66259166, 1.86480309, 1.81877874, 1.94360637, 1.73610746,\n",
       "       1.55979712, 1.85662239, 1.88039252, 1.7806386 , 1.88548359,\n",
       "       1.7468978 , 1.76136641, 1.71377051, 1.51270956, 1.55394571])"
      ]
     },
     "execution_count": 37,
     "metadata": {},
     "output_type": "execute_result"
    }
   ],
   "source": [
    "pressure_data"
   ]
  },
  {
   "cell_type": "code",
   "execution_count": 39,
   "id": "0d04d4c7-648c-43be-babb-93e5deffae19",
   "metadata": {},
   "outputs": [],
   "source": [
    "# Escalar los datos a un rango de 0 a 1\n",
    "scaler = MinMaxScaler(feature_range=(0, 1))\n",
    "pressure_data = scaler.fit_transform(pressure_data.reshape(-1, 1))"
   ]
  },
  {
   "cell_type": "code",
   "execution_count": 61,
   "id": "07f6991b-c211-41d4-a213-a286a1ca362f",
   "metadata": {},
   "outputs": [],
   "source": [
    "# Dividir los datos en entrenamiento y prueba\n",
    "train_size = int(len(pressure_data) * 0.8)\n",
    "train_data = pressure_data[:train_size]\n",
    "test_data = pressure_data[train_size:]"
   ]
  },
  {
   "cell_type": "code",
   "execution_count": 85,
   "id": "5415e4cb-35cc-478e-acdb-6b9fc3c20d9b",
   "metadata": {},
   "outputs": [],
   "source": [
    "def create_sequences(data, sequence_length):\n",
    "    sequences = []\n",
    "    labels = []\n",
    "    for i in range(len(data) - sequence_length):\n",
    "        sequences.append(data[i:i + sequence_length])\n",
    "        labels.append(data[i + sequence_length])\n",
    "    return np.array(sequences), np.array(labels)\n",
    "\n",
    "sequence_length = 10  # Puedes ajustar este valor\n",
    "X_train, y_train = create_sequences(train_data, sequence_length)\n",
    "X_test, y_test = create_sequences(test_data, sequence_length)"
   ]
  },
  {
   "cell_type": "code",
   "execution_count": 87,
   "id": "87a8d02d-27df-49ad-8e65-e08b54569323",
   "metadata": {
    "scrolled": true
   },
   "outputs": [
    {
     "name": "stdout",
     "output_type": "stream",
     "text": [
      "(70, 10, 1) (70, 1)\n",
      "(10, 10, 1) (10, 1)\n"
     ]
    }
   ],
   "source": [
    "# Verificar las formas de los datos\n",
    "print(X_train.shape, y_train.shape)\n",
    "print(X_test.shape, y_test.shape)"
   ]
  },
  {
   "cell_type": "code",
   "execution_count": 109,
   "id": "3266fd0c-5c58-4fd1-99e1-5d9119f9ee75",
   "metadata": {
    "scrolled": true
   },
   "outputs": [
    {
     "name": "stdout",
     "output_type": "stream",
     "text": [
      "Model: \"sequential_5\"\n",
      "_________________________________________________________________\n",
      " Layer (type)                Output Shape              Param #   \n",
      "=================================================================\n",
      " lstm_10 (LSTM)              (None, 10, 100)           40800     \n",
      "                                                                 \n",
      " lstm_11 (LSTM)              (None, 100)               80400     \n",
      "                                                                 \n",
      " dense_5 (Dense)             (None, 1)                 101       \n",
      "                                                                 \n",
      "=================================================================\n",
      "Total params: 121301 (473.83 KB)\n",
      "Trainable params: 121301 (473.83 KB)\n",
      "Non-trainable params: 0 (0.00 Byte)\n",
      "_________________________________________________________________\n"
     ]
    }
   ],
   "source": [
    "# Construye el modelo LSTM utilizando Keras\n",
    "model = Sequential()\n",
    "model.add(LSTM(units=100, return_sequences=True, input_shape=(sequence_length, 1)))\n",
    "model.add(LSTM(units=100))\n",
    "model.add(Dense(1))\n",
    "\n",
    "model.compile(optimizer='adam', loss='mean_squared_error')\n",
    "model.summary()"
   ]
  },
  {
   "cell_type": "code",
   "execution_count": 111,
   "id": "c4ae29f2-0fe6-4d02-9471-54498a4cbae6",
   "metadata": {},
   "outputs": [
    {
     "name": "stdout",
     "output_type": "stream",
     "text": [
      "Epoch 1/50\n",
      "3/3 [==============================] - 5s 486ms/step - loss: 0.2859 - val_loss: 0.1353\n",
      "Epoch 2/50\n",
      "3/3 [==============================] - 0s 21ms/step - loss: 0.1496 - val_loss: 0.0844\n",
      "Epoch 3/50\n",
      "3/3 [==============================] - 0s 19ms/step - loss: 0.1062 - val_loss: 0.1366\n",
      "Epoch 4/50\n",
      "3/3 [==============================] - 0s 18ms/step - loss: 0.1262 - val_loss: 0.0923\n",
      "Epoch 5/50\n",
      "3/3 [==============================] - 0s 20ms/step - loss: 0.1048 - val_loss: 0.0797\n",
      "Epoch 6/50\n",
      "3/3 [==============================] - 0s 20ms/step - loss: 0.1040 - val_loss: 0.0776\n",
      "Epoch 7/50\n",
      "3/3 [==============================] - 0s 20ms/step - loss: 0.1052 - val_loss: 0.0776\n",
      "Epoch 8/50\n",
      "3/3 [==============================] - 0s 18ms/step - loss: 0.1037 - val_loss: 0.0796\n",
      "Epoch 9/50\n",
      "3/3 [==============================] - 0s 19ms/step - loss: 0.1043 - val_loss: 0.0826\n",
      "Epoch 10/50\n",
      "3/3 [==============================] - 0s 20ms/step - loss: 0.1028 - val_loss: 0.0794\n",
      "Epoch 11/50\n",
      "3/3 [==============================] - 0s 19ms/step - loss: 0.1023 - val_loss: 0.0786\n",
      "Epoch 12/50\n",
      "3/3 [==============================] - 0s 22ms/step - loss: 0.1021 - val_loss: 0.0779\n",
      "Epoch 13/50\n",
      "3/3 [==============================] - 0s 21ms/step - loss: 0.1023 - val_loss: 0.0772\n",
      "Epoch 14/50\n",
      "3/3 [==============================] - 0s 19ms/step - loss: 0.1024 - val_loss: 0.0763\n",
      "Epoch 15/50\n",
      "3/3 [==============================] - 0s 19ms/step - loss: 0.1030 - val_loss: 0.0764\n",
      "Epoch 16/50\n",
      "3/3 [==============================] - 0s 19ms/step - loss: 0.1020 - val_loss: 0.0776\n",
      "Epoch 17/50\n",
      "3/3 [==============================] - 0s 20ms/step - loss: 0.1013 - val_loss: 0.0801\n",
      "Epoch 18/50\n",
      "3/3 [==============================] - 0s 21ms/step - loss: 0.1013 - val_loss: 0.0806\n",
      "Epoch 19/50\n",
      "3/3 [==============================] - 0s 20ms/step - loss: 0.1014 - val_loss: 0.0787\n",
      "Epoch 20/50\n",
      "3/3 [==============================] - 0s 19ms/step - loss: 0.1008 - val_loss: 0.0774\n",
      "Epoch 21/50\n",
      "3/3 [==============================] - 0s 19ms/step - loss: 0.1009 - val_loss: 0.0777\n",
      "Epoch 22/50\n",
      "3/3 [==============================] - 0s 20ms/step - loss: 0.1004 - val_loss: 0.0767\n",
      "Epoch 23/50\n",
      "3/3 [==============================] - 0s 21ms/step - loss: 0.1004 - val_loss: 0.0760\n",
      "Epoch 24/50\n",
      "3/3 [==============================] - 0s 20ms/step - loss: 0.1013 - val_loss: 0.0766\n",
      "Epoch 25/50\n",
      "3/3 [==============================] - 0s 25ms/step - loss: 0.0989 - val_loss: 0.0836\n",
      "Epoch 26/50\n",
      "3/3 [==============================] - 0s 19ms/step - loss: 0.1046 - val_loss: 0.0856\n",
      "Epoch 27/50\n",
      "3/3 [==============================] - 0s 23ms/step - loss: 0.1013 - val_loss: 0.0763\n",
      "Epoch 28/50\n",
      "3/3 [==============================] - 0s 20ms/step - loss: 0.1003 - val_loss: 0.0757\n",
      "Epoch 29/50\n",
      "3/3 [==============================] - 0s 19ms/step - loss: 0.1030 - val_loss: 0.0760\n",
      "Epoch 30/50\n",
      "3/3 [==============================] - 0s 20ms/step - loss: 0.1022 - val_loss: 0.0754\n",
      "Epoch 31/50\n",
      "3/3 [==============================] - 0s 19ms/step - loss: 0.1004 - val_loss: 0.0776\n",
      "Epoch 32/50\n",
      "3/3 [==============================] - 0s 23ms/step - loss: 0.0997 - val_loss: 0.0778\n",
      "Epoch 33/50\n",
      "3/3 [==============================] - 0s 23ms/step - loss: 0.0997 - val_loss: 0.0759\n",
      "Epoch 34/50\n",
      "3/3 [==============================] - 0s 18ms/step - loss: 0.0994 - val_loss: 0.0761\n",
      "Epoch 35/50\n",
      "3/3 [==============================] - 0s 19ms/step - loss: 0.0983 - val_loss: 0.0785\n",
      "Epoch 36/50\n",
      "3/3 [==============================] - 0s 19ms/step - loss: 0.1000 - val_loss: 0.0805\n",
      "Epoch 37/50\n",
      "3/3 [==============================] - 0s 19ms/step - loss: 0.0998 - val_loss: 0.0781\n",
      "Epoch 38/50\n",
      "3/3 [==============================] - 0s 23ms/step - loss: 0.0988 - val_loss: 0.0755\n",
      "Epoch 39/50\n",
      "3/3 [==============================] - 0s 20ms/step - loss: 0.0991 - val_loss: 0.0750\n",
      "Epoch 40/50\n",
      "3/3 [==============================] - 0s 18ms/step - loss: 0.1015 - val_loss: 0.0750\n",
      "Epoch 41/50\n",
      "3/3 [==============================] - 0s 20ms/step - loss: 0.1014 - val_loss: 0.0753\n",
      "Epoch 42/50\n",
      "3/3 [==============================] - 0s 19ms/step - loss: 0.0980 - val_loss: 0.0776\n",
      "Epoch 43/50\n",
      "3/3 [==============================] - 0s 23ms/step - loss: 0.0996 - val_loss: 0.0799\n",
      "Epoch 44/50\n",
      "3/3 [==============================] - 0s 19ms/step - loss: 0.0992 - val_loss: 0.0760\n",
      "Epoch 45/50\n",
      "3/3 [==============================] - 0s 18ms/step - loss: 0.0989 - val_loss: 0.0753\n",
      "Epoch 46/50\n",
      "3/3 [==============================] - 0s 20ms/step - loss: 0.1016 - val_loss: 0.0787\n",
      "Epoch 47/50\n",
      "3/3 [==============================] - 0s 20ms/step - loss: 0.1067 - val_loss: 0.0793\n",
      "Epoch 48/50\n",
      "3/3 [==============================] - 0s 21ms/step - loss: 0.1059 - val_loss: 0.0756\n",
      "Epoch 49/50\n",
      "3/3 [==============================] - 0s 20ms/step - loss: 0.0996 - val_loss: 0.0766\n",
      "Epoch 50/50\n",
      "3/3 [==============================] - 0s 18ms/step - loss: 0.0998 - val_loss: 0.0877\n"
     ]
    },
    {
     "data": {
      "image/png": "[encoded data removed]",
      "text/plain": [
       "<Figure size 640x480 with 1 Axes>"
      ]
     },
     "metadata": {},
     "output_type": "display_data"
    }
   ],
   "source": [
    "import matplotlib.pyplot as plt\n",
    "\n",
    "# Entrena el modelo con los datos de entrenamiento\n",
    "history = model.fit(X_train, y_train, epochs=50, batch_size=32, validation_data=(X_test, y_test))\n",
    "\n",
    "# Graficar la pérdida de entrenamiento y validación\n",
    "plt.plot(history.history['loss'], label='Training Loss')\n",
    "plt.plot(history.history['val_loss'], label='Validation Loss')\n",
    "plt.legend()\n",
    "plt.show()\n"
   ]
  },
  {
   "cell_type": "code",
   "execution_count": 113,
   "id": "de2202e3-ac09-4241-a3fc-67ebe994cbcf",
   "metadata": {},
   "outputs": [
    {
     "name": "stdout",
     "output_type": "stream",
     "text": [
      "1/1 [==============================] - 1s 854ms/step\n"
     ]
    },
    {
     "data": {
      "image/png": "[encoded data removed]",
      "text/plain": [
       "<Figure size 640x480 with 1 Axes>"
      ]
     },
     "metadata": {},
     "output_type": "display_data"
    }
   ],
   "source": [
    "# Evalúa el modelo con los datos de prueba y realiza predicciones\n",
    "predicted = model.predict(X_test)\n",
    "predicted = scaler.inverse_transform(predicted)\n",
    "\n",
    "# Inversión de la escala de los datos de prueba para compararlos\n",
    "y_test_scaled = scaler.inverse_transform(y_test.reshape(-1, 1))\n",
    "\n",
    "# Graficar los resultados\n",
    "plt.plot(y_test_scaled, label='True Pressure')\n",
    "plt.plot(predicted, label='Predicted Pressure')\n",
    "plt.legend()\n",
    "plt.show()"
   ]
  },
  {
   "cell_type": "code",
   "execution_count": null,
   "id": "7746a711-088f-4c6c-b37c-ee53be29c17e",
   "metadata": {},
   "outputs": [],
   "source": []
  }
 ],
 "metadata": {
  "kernelspec": {
   "display_name": "Python 3 (ipykernel)",
   "language": "python",
   "name": "python3"
  },
  "language_info": {
   "codemirror_mode": {
    "name": "ipython",
    "version": 3
   },
   "file_extension": ".py",
   "mimetype": "text/x-python",
   "name": "python",
   "nbconvert_exporter": "python",
   "pygments_lexer": "ipython3",
   "version": "3.11.7"
  }
 },
 "nbformat": 4,
 "nbformat_minor": 5
}
